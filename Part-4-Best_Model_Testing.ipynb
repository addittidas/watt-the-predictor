{
 "cells": [
  {
   "cell_type": "code",
   "execution_count": 1,
   "id": "7c6bc611-b847-4aed-8326-e034caf63173",
   "metadata": {},
   "outputs": [],
   "source": [
    "import pandas as pd\n",
    "\n",
    "train_x = pd.read_csv('saved_data/train_x.csv')\n",
    "train_y = pd.read_csv('saved_data/train_y.csv')\n",
    "\n",
    "test_x = pd.read_csv('saved_data/test_x.csv')\n",
    "test_y = pd.read_csv('saved_data/test_y.csv')"
   ]
  },
  {
   "cell_type": "code",
   "execution_count": 2,
   "id": "93ec1560-bd8f-412b-8099-a1370e1aed61",
   "metadata": {},
   "outputs": [
    {
     "name": "stderr",
     "output_type": "stream",
     "text": [
      "C:\\Users\\aditi\\anaconda3\\Lib\\site-packages\\sklearn\\base.py:376: InconsistentVersionWarning: Trying to unpickle estimator DecisionTreeRegressor from version 1.6.1 when using version 1.5.1. This might lead to breaking code or invalid results. Use at your own risk. For more info please refer to:\n",
      "https://scikit-learn.org/stable/model_persistence.html#security-maintainability-limitations\n",
      "  warnings.warn(\n"
     ]
    }
   ],
   "source": [
    "import joblib\n",
    "\n",
    "model = joblib.load('models/decision_tree_model.pkl')"
   ]
  },
  {
   "cell_type": "code",
   "execution_count": 3,
   "id": "a72d286f-bc54-40bc-b0b0-d81af5ba237c",
   "metadata": {},
   "outputs": [],
   "source": [
    "if isinstance(train_y, pd.DataFrame):\n",
    "    train_y = train_y.squeeze()  # converts to Series"
   ]
  },
  {
   "cell_type": "code",
   "execution_count": 4,
   "id": "2bf0fe76-632e-4ddb-9991-f00a11195057",
   "metadata": {},
   "outputs": [],
   "source": [
    "if isinstance(test_y, pd.DataFrame):\n",
    "    test_y = test_y.squeeze()  # converts to Series"
   ]
  },
  {
   "cell_type": "code",
   "execution_count": 5,
   "id": "b0855d12-98d1-4fea-be61-2cb357233087",
   "metadata": {},
   "outputs": [],
   "source": [
    "y_pred = model.predict(test_x)\n",
    "y_train_pred = model.predict(train_x)"
   ]
  },
  {
   "cell_type": "code",
   "execution_count": 8,
   "id": "7c5342dc-65e6-4378-8966-6e4335f09b40",
   "metadata": {},
   "outputs": [],
   "source": [
    "from sklearn.metrics import mean_squared_error, mean_absolute_error, r2_score\n",
    "import numpy as np\n",
    "\n",
    "def evaluate_metrics(X_train, X_test, y_train_pred, y_test_pred):\n",
    "    def rmsle(y_true, y_pred):\n",
    "        return np.sqrt(np.mean(np.square(np.log1p(y_pred) - np.log1p(y_true))))\n",
    "\n",
    "    # Training performance\n",
    "    print(\"Training Set:\")\n",
    "    print(\"RMSLE:\", rmsle(train_y, y_train_pred))\n",
    "    print(\"RMSE:\", np.sqrt(mean_squared_error(train_y, y_train_pred)))\n",
    "    print(\"MAE:\", mean_absolute_error(train_y, y_train_pred))\n",
    "    print(\"R² Score:\", r2_score(train_y, y_train_pred))\n",
    "\n",
    "    # Testing performance\n",
    "    print(\"\\nTesting Set:\")\n",
    "    print(\"RMSLE:\", rmsle(test_y, y_pred))\n",
    "    print(\"RMSE:\", np.sqrt(mean_squared_error(test_y, y_pred)))\n",
    "    print(\"MAE:\", mean_absolute_error(test_y, y_pred))\n",
    "    print(\"R² Score:\", r2_score(test_y, y_pred))"
   ]
  },
  {
   "cell_type": "code",
   "execution_count": 9,
   "id": "d6ac1bdc-5117-473c-ab40-7bf4dbcacbab",
   "metadata": {},
   "outputs": [
    {
     "name": "stdout",
     "output_type": "stream",
     "text": [
      "Training Set:\n",
      "RMSLE: 0.14255552491418902\n",
      "RMSE: 0.6077038891342489\n",
      "MAE: 0.3858769868352603\n",
      "R² Score: 0.882459640571819\n",
      "\n",
      "Testing Set:\n",
      "RMSLE: 0.14316578891645707\n",
      "RMSE: 0.6099129854609322\n",
      "MAE: 0.3875048883779164\n",
      "R² Score: 0.8815146568475652\n"
     ]
    }
   ],
   "source": [
    "evaluate_metrics(train_x,test_x,y_train_pred,y_pred)"
   ]
  }
 ],
 "metadata": {
  "kernelspec": {
   "display_name": "Python 3 (ipykernel)",
   "language": "python",
   "name": "python3"
  },
  "language_info": {
   "codemirror_mode": {
    "name": "ipython",
    "version": 3
   },
   "file_extension": ".py",
   "mimetype": "text/x-python",
   "name": "python",
   "nbconvert_exporter": "python",
   "pygments_lexer": "ipython3",
   "version": "3.11.5"
  }
 },
 "nbformat": 4,
 "nbformat_minor": 5
}
